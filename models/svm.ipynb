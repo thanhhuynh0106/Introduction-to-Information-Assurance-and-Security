{
 "cells": [
  {
   "cell_type": "code",
   "execution_count": 1,
   "id": "fe80234c",
   "metadata": {},
   "outputs": [],
   "source": [
    "import pandas as pd\n",
    "from sklearn import svm\n",
    "from sklearn.model_selection import train_test_split\n",
    "from sklearn.metrics import classification_report, confusion_matrix\n"
   ]
  },
  {
   "cell_type": "code",
   "execution_count": 2,
   "id": "a8d3069d",
   "metadata": {},
   "outputs": [
    {
     "data": {
      "text/html": [
       "<div>\n",
       "<style scoped>\n",
       "    .dataframe tbody tr th:only-of-type {\n",
       "        vertical-align: middle;\n",
       "    }\n",
       "\n",
       "    .dataframe tbody tr th {\n",
       "        vertical-align: top;\n",
       "    }\n",
       "\n",
       "    .dataframe thead th {\n",
       "        text-align: right;\n",
       "    }\n",
       "</style>\n",
       "<table border=\"1\" class=\"dataframe\">\n",
       "  <thead>\n",
       "    <tr style=\"text-align: right;\">\n",
       "      <th></th>\n",
       "      <th>Payload</th>\n",
       "      <th>Label</th>\n",
       "    </tr>\n",
       "  </thead>\n",
       "  <tbody>\n",
       "    <tr>\n",
       "      <th>0</th>\n",
       "      <td>id=2&amp;nombre=Vino+Rioja&amp;precio=39&amp;cantidad=72&amp;...</td>\n",
       "      <td>0</td>\n",
       "    </tr>\n",
       "    <tr>\n",
       "      <th>1</th>\n",
       "      <td>&lt;login&gt;&lt;username&gt;john_doe&lt;/username&gt;&lt;password&gt;...</td>\n",
       "      <td>0</td>\n",
       "    </tr>\n",
       "    <tr>\n",
       "      <th>2</th>\n",
       "      <td>modo=registro&amp;login=aronstam&amp;password=373406N...</td>\n",
       "      <td>0</td>\n",
       "    </tr>\n",
       "    <tr>\n",
       "      <th>3</th>\n",
       "      <td>modo=entrar&amp;login=delila&amp;pwd=ipe$cacuana&amp;remem...</td>\n",
       "      <td>0</td>\n",
       "    </tr>\n",
       "    <tr>\n",
       "      <th>4</th>\n",
       "      <td>&lt;login&gt;&lt;username&gt;john_doe&lt;/username&gt;&lt;password&gt;...</td>\n",
       "      <td>0</td>\n",
       "    </tr>\n",
       "    <tr>\n",
       "      <th>...</th>\n",
       "      <td>...</td>\n",
       "      <td>...</td>\n",
       "    </tr>\n",
       "    <tr>\n",
       "      <th>66011</th>\n",
       "      <td>modo=registro&amp;login=kimbroug&amp;password=3m6noja4...</td>\n",
       "      <td>0</td>\n",
       "    </tr>\n",
       "    <tr>\n",
       "      <th>66012</th>\n",
       "      <td>&lt;tbody onpointermove=alert(1)&gt;XSS&lt;/tbody&gt;</td>\n",
       "      <td>1</td>\n",
       "    </tr>\n",
       "    <tr>\n",
       "      <th>66013</th>\n",
       "      <td>&lt;order&gt;&lt;item&gt;Phone&lt;/item&gt;&lt;price&gt;500&lt;/price&gt;&lt;/o...</td>\n",
       "      <td>0</td>\n",
       "    </tr>\n",
       "    <tr>\n",
       "      <th>66014</th>\n",
       "      <td>&lt;DIV STYLE=\"background-image: url(javascript:a...</td>\n",
       "      <td>1</td>\n",
       "    </tr>\n",
       "    <tr>\n",
       "      <th>66015</th>\n",
       "      <td>&lt;style&gt;:target {color: red;}&lt;/style&gt;&lt;figure id...</td>\n",
       "      <td>1</td>\n",
       "    </tr>\n",
       "  </tbody>\n",
       "</table>\n",
       "<p>66016 rows × 2 columns</p>\n",
       "</div>"
      ],
      "text/plain": [
       "                                                 Payload  Label\n",
       "0       id=2&nombre=Vino+Rioja&precio=39&cantidad=72&...      0\n",
       "1      <login><username>john_doe</username><password>...      0\n",
       "2       modo=registro&login=aronstam&password=373406N...      0\n",
       "3      modo=entrar&login=delila&pwd=ipe$cacuana&remem...      0\n",
       "4      <login><username>john_doe</username><password>...      0\n",
       "...                                                  ...    ...\n",
       "66011  modo=registro&login=kimbroug&password=3m6noja4...      0\n",
       "66012          <tbody onpointermove=alert(1)>XSS</tbody>      1\n",
       "66013  <order><item>Phone</item><price>500</price></o...      0\n",
       "66014  <DIV STYLE=\"background-image: url(javascript:a...      1\n",
       "66015  <style>:target {color: red;}</style><figure id...      1\n",
       "\n",
       "[66016 rows x 2 columns]"
      ]
     },
     "execution_count": 2,
     "metadata": {},
     "output_type": "execute_result"
    }
   ],
   "source": [
    "data = pd.read_csv(r'D:\\NationalSecret\\IE105\\data\\all_ver2.csv')\n",
    "data"
   ]
  },
  {
   "cell_type": "code",
   "execution_count": 3,
   "id": "4f869030",
   "metadata": {},
   "outputs": [],
   "source": [
    "from sklearn.model_selection import train_test_split\n",
    "from sklearn.feature_extraction.text import TfidfVectorizer"
   ]
  },
  {
   "cell_type": "code",
   "execution_count": 6,
   "id": "7d663eae",
   "metadata": {},
   "outputs": [],
   "source": [
    "vectorizer = TfidfVectorizer()\n",
    "X = vectorizer.fit_transform(data['Payload'])\n",
    "y = data['Label']\n",
    "\n",
    "X_train, X_test, y_train, y_test = train_test_split(X, y, test_size=0.2, random_state=42)"
   ]
  },
  {
   "cell_type": "code",
   "execution_count": 7,
   "id": "91f2b10b",
   "metadata": {},
   "outputs": [
    {
     "name": "stdout",
     "output_type": "stream",
     "text": [
      "[[5428    0    2    0    0]\n",
      " [  14 3710    2    0    1]\n",
      " [  34    2 2932    0    1]\n",
      " [   0    0    0  981    0]\n",
      " [   2    1    5    0   89]]\n",
      "              precision    recall  f1-score   support\n",
      "\n",
      "           0       0.99      1.00      1.00      5430\n",
      "           1       1.00      1.00      1.00      3727\n",
      "           2       1.00      0.99      0.99      2969\n",
      "           3       1.00      1.00      1.00       981\n",
      "           4       0.98      0.92      0.95        97\n",
      "\n",
      "    accuracy                           1.00     13204\n",
      "   macro avg       0.99      0.98      0.99     13204\n",
      "weighted avg       1.00      1.00      1.00     13204\n",
      "\n"
     ]
    }
   ],
   "source": [
    "model = svm.SVC(kernel='linear', C=1.0, random_state=42)\n",
    "model.fit(X_train, y_train)\n",
    "y_pred = model.predict(X_test)\n",
    "\n",
    "print(confusion_matrix(y_test, y_pred))\n",
    "print(classification_report(y_test, y_pred))"
   ]
  },
  {
   "cell_type": "code",
   "execution_count": 8,
   "id": "b771c9fa",
   "metadata": {},
   "outputs": [
    {
     "data": {
      "text/plain": [
       "['results/svm_model.pkl']"
      ]
     },
     "execution_count": 8,
     "metadata": {},
     "output_type": "execute_result"
    }
   ],
   "source": [
    "import joblib \n",
    "\n",
    "joblib.dump(model, 'results/svm_model.pkl')"
   ]
  },
  {
   "cell_type": "code",
   "execution_count": null,
   "id": "41bfc7af",
   "metadata": {},
   "outputs": [],
   "source": []
  }
 ],
 "metadata": {
  "kernelspec": {
   "display_name": "base",
   "language": "python",
   "name": "python3"
  },
  "language_info": {
   "codemirror_mode": {
    "name": "ipython",
    "version": 3
   },
   "file_extension": ".py",
   "mimetype": "text/x-python",
   "name": "python",
   "nbconvert_exporter": "python",
   "pygments_lexer": "ipython3",
   "version": "3.12.4"
  }
 },
 "nbformat": 4,
 "nbformat_minor": 5
}
