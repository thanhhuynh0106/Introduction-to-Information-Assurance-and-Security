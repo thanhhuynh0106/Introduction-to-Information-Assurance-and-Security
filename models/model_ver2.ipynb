{
 "cells": [
  {
   "cell_type": "code",
   "execution_count": 79,
   "metadata": {},
   "outputs": [],
   "source": [
    "import pandas as pd\n",
    "import numpy as np\n",
    "import matplotlib.pyplot as plt\n",
    "\n",
    "from sklearn.model_selection import train_test_split\n",
    "from sklearn.ensemble import RandomForestClassifier\n",
    "from sklearn.metrics import classification_report, confusion_matrix, accuracy_score\n",
    "from sklearn.model_selection import GridSearchCV\n",
    "from sklearn.feature_extraction.text import CountVectorizer\n",
    "from sklearn.feature_extraction.text import TfidfVectorizer\n",
    "from tqdm import tqdm\n",
    "\n",
    "import warnings\n",
    "warnings.filterwarnings(\"ignore\")"
   ]
  },
  {
   "cell_type": "code",
   "execution_count": 76,
   "metadata": {},
   "outputs": [
    {
     "data": {
      "text/html": [
       "<div>\n",
       "<style scoped>\n",
       "    .dataframe tbody tr th:only-of-type {\n",
       "        vertical-align: middle;\n",
       "    }\n",
       "\n",
       "    .dataframe tbody tr th {\n",
       "        vertical-align: top;\n",
       "    }\n",
       "\n",
       "    .dataframe thead th {\n",
       "        text-align: right;\n",
       "    }\n",
       "</style>\n",
       "<table border=\"1\" class=\"dataframe\">\n",
       "  <thead>\n",
       "    <tr style=\"text-align: right;\">\n",
       "      <th></th>\n",
       "      <th>Payload</th>\n",
       "      <th>Label</th>\n",
       "    </tr>\n",
       "  </thead>\n",
       "  <tbody>\n",
       "    <tr>\n",
       "      <th>0</th>\n",
       "      <td>id=2&amp;nombre=Vino+Rioja&amp;precio=39&amp;cantidad=72&amp;...</td>\n",
       "      <td>0</td>\n",
       "    </tr>\n",
       "    <tr>\n",
       "      <th>1</th>\n",
       "      <td>&lt;login&gt;&lt;username&gt;john_doe&lt;/username&gt;&lt;password&gt;...</td>\n",
       "      <td>0</td>\n",
       "    </tr>\n",
       "    <tr>\n",
       "      <th>2</th>\n",
       "      <td>modo=registro&amp;login=aronstam&amp;password=373406N...</td>\n",
       "      <td>0</td>\n",
       "    </tr>\n",
       "    <tr>\n",
       "      <th>3</th>\n",
       "      <td>modo=entrar&amp;login=delila&amp;pwd=ipe$cacuana&amp;remem...</td>\n",
       "      <td>0</td>\n",
       "    </tr>\n",
       "    <tr>\n",
       "      <th>4</th>\n",
       "      <td>&lt;login&gt;&lt;username&gt;john_doe&lt;/username&gt;&lt;password&gt;...</td>\n",
       "      <td>0</td>\n",
       "    </tr>\n",
       "    <tr>\n",
       "      <th>...</th>\n",
       "      <td>...</td>\n",
       "      <td>...</td>\n",
       "    </tr>\n",
       "    <tr>\n",
       "      <th>66011</th>\n",
       "      <td>modo=registro&amp;login=kimbroug&amp;password=3m6noja4...</td>\n",
       "      <td>0</td>\n",
       "    </tr>\n",
       "    <tr>\n",
       "      <th>66012</th>\n",
       "      <td>&lt;tbody onpointermove=alert(1)&gt;XSS&lt;/tbody&gt;</td>\n",
       "      <td>1</td>\n",
       "    </tr>\n",
       "    <tr>\n",
       "      <th>66013</th>\n",
       "      <td>&lt;order&gt;&lt;item&gt;Phone&lt;/item&gt;&lt;price&gt;500&lt;/price&gt;&lt;/o...</td>\n",
       "      <td>0</td>\n",
       "    </tr>\n",
       "    <tr>\n",
       "      <th>66014</th>\n",
       "      <td>&lt;DIV STYLE=\"background-image: url(javascript:a...</td>\n",
       "      <td>1</td>\n",
       "    </tr>\n",
       "    <tr>\n",
       "      <th>66015</th>\n",
       "      <td>&lt;style&gt;:target {color: red;}&lt;/style&gt;&lt;figure id...</td>\n",
       "      <td>1</td>\n",
       "    </tr>\n",
       "  </tbody>\n",
       "</table>\n",
       "<p>66016 rows × 2 columns</p>\n",
       "</div>"
      ],
      "text/plain": [
       "                                                 Payload  Label\n",
       "0       id=2&nombre=Vino+Rioja&precio=39&cantidad=72&...      0\n",
       "1      <login><username>john_doe</username><password>...      0\n",
       "2       modo=registro&login=aronstam&password=373406N...      0\n",
       "3      modo=entrar&login=delila&pwd=ipe$cacuana&remem...      0\n",
       "4      <login><username>john_doe</username><password>...      0\n",
       "...                                                  ...    ...\n",
       "66011  modo=registro&login=kimbroug&password=3m6noja4...      0\n",
       "66012          <tbody onpointermove=alert(1)>XSS</tbody>      1\n",
       "66013  <order><item>Phone</item><price>500</price></o...      0\n",
       "66014  <DIV STYLE=\"background-image: url(javascript:a...      1\n",
       "66015  <style>:target {color: red;}</style><figure id...      1\n",
       "\n",
       "[66016 rows x 2 columns]"
      ]
     },
     "execution_count": 76,
     "metadata": {},
     "output_type": "execute_result"
    }
   ],
   "source": [
    "data = pd.read_csv(r'D:\\NationalSecret\\IE105\\data\\all_ver2.csv')\n",
    "data"
   ]
  },
  {
   "cell_type": "code",
   "execution_count": 78,
   "metadata": {},
   "outputs": [
    {
     "data": {
      "text/plain": [
       "Label\n",
       "0    27364\n",
       "1    18196\n",
       "2    14941\n",
       "3     5000\n",
       "4      515\n",
       "Name: count, dtype: int64"
      ]
     },
     "execution_count": 78,
     "metadata": {},
     "output_type": "execute_result"
    }
   ],
   "source": [
    "data.Label.value_counts()"
   ]
  },
  {
   "cell_type": "code",
   "execution_count": 81,
   "metadata": {},
   "outputs": [
    {
     "data": {
      "text/html": [
       "<div>\n",
       "<style scoped>\n",
       "    .dataframe tbody tr th:only-of-type {\n",
       "        vertical-align: middle;\n",
       "    }\n",
       "\n",
       "    .dataframe tbody tr th {\n",
       "        vertical-align: top;\n",
       "    }\n",
       "\n",
       "    .dataframe thead th {\n",
       "        text-align: right;\n",
       "    }\n",
       "</style>\n",
       "<table border=\"1\" class=\"dataframe\">\n",
       "  <thead>\n",
       "    <tr style=\"text-align: right;\">\n",
       "      <th></th>\n",
       "      <th>Payload</th>\n",
       "      <th>Label</th>\n",
       "    </tr>\n",
       "  </thead>\n",
       "  <tbody>\n",
       "    <tr>\n",
       "      <th>0</th>\n",
       "      <td>id=2&amp;nombre=Vino+Rioja&amp;precio=39&amp;cantidad=72&amp;...</td>\n",
       "      <td>0</td>\n",
       "    </tr>\n",
       "    <tr>\n",
       "      <th>1</th>\n",
       "      <td>&lt;login&gt;&lt;username&gt;john_doe&lt;/username&gt;&lt;password&gt;...</td>\n",
       "      <td>0</td>\n",
       "    </tr>\n",
       "    <tr>\n",
       "      <th>2</th>\n",
       "      <td>modo=registro&amp;login=aronstam&amp;password=373406N...</td>\n",
       "      <td>0</td>\n",
       "    </tr>\n",
       "    <tr>\n",
       "      <th>3</th>\n",
       "      <td>modo=entrar&amp;login=delila&amp;pwd=ipe$cacuana&amp;remem...</td>\n",
       "      <td>0</td>\n",
       "    </tr>\n",
       "    <tr>\n",
       "      <th>4</th>\n",
       "      <td>&lt;login&gt;&lt;username&gt;john_doe&lt;/username&gt;&lt;password&gt;...</td>\n",
       "      <td>0</td>\n",
       "    </tr>\n",
       "    <tr>\n",
       "      <th>...</th>\n",
       "      <td>...</td>\n",
       "      <td>...</td>\n",
       "    </tr>\n",
       "    <tr>\n",
       "      <th>66011</th>\n",
       "      <td>modo=registro&amp;login=kimbroug&amp;password=3m6noja4...</td>\n",
       "      <td>0</td>\n",
       "    </tr>\n",
       "    <tr>\n",
       "      <th>66012</th>\n",
       "      <td>&lt;tbody onpointermove=alert(1)&gt;XSS&lt;/tbody&gt;</td>\n",
       "      <td>1</td>\n",
       "    </tr>\n",
       "    <tr>\n",
       "      <th>66013</th>\n",
       "      <td>&lt;order&gt;&lt;item&gt;Phone&lt;/item&gt;&lt;price&gt;500&lt;/price&gt;&lt;/o...</td>\n",
       "      <td>0</td>\n",
       "    </tr>\n",
       "    <tr>\n",
       "      <th>66014</th>\n",
       "      <td>&lt;DIV STYLE=\"background-image: url(javascript:a...</td>\n",
       "      <td>1</td>\n",
       "    </tr>\n",
       "    <tr>\n",
       "      <th>66015</th>\n",
       "      <td>&lt;style&gt;:target {color: red;}&lt;/style&gt;&lt;figure id...</td>\n",
       "      <td>1</td>\n",
       "    </tr>\n",
       "  </tbody>\n",
       "</table>\n",
       "<p>66015 rows × 2 columns</p>\n",
       "</div>"
      ],
      "text/plain": [
       "                                                 Payload  Label\n",
       "0       id=2&nombre=Vino+Rioja&precio=39&cantidad=72&...      0\n",
       "1      <login><username>john_doe</username><password>...      0\n",
       "2       modo=registro&login=aronstam&password=373406N...      0\n",
       "3      modo=entrar&login=delila&pwd=ipe$cacuana&remem...      0\n",
       "4      <login><username>john_doe</username><password>...      0\n",
       "...                                                  ...    ...\n",
       "66011  modo=registro&login=kimbroug&password=3m6noja4...      0\n",
       "66012          <tbody onpointermove=alert(1)>XSS</tbody>      1\n",
       "66013  <order><item>Phone</item><price>500</price></o...      0\n",
       "66014  <DIV STYLE=\"background-image: url(javascript:a...      1\n",
       "66015  <style>:target {color: red;}</style><figure id...      1\n",
       "\n",
       "[66015 rows x 2 columns]"
      ]
     },
     "execution_count": 81,
     "metadata": {},
     "output_type": "execute_result"
    }
   ],
   "source": [
    "data = data.dropna()\n",
    "data"
   ]
  },
  {
   "cell_type": "code",
   "execution_count": 82,
   "metadata": {},
   "outputs": [],
   "source": [
    "X = data['Payload']\n",
    "y = data['Label']\n",
    "\n",
    "vectorizer = TfidfVectorizer()\n",
    "X_tfidf = vectorizer.fit_transform(X)\n",
    "\n",
    "X_train, X_test, y_train, y_test = train_test_split(X_tfidf, y, test_size=0.2, random_state=42)"
   ]
  },
  {
   "cell_type": "code",
   "execution_count": 83,
   "metadata": {},
   "outputs": [
    {
     "name": "stdout",
     "output_type": "stream",
     "text": [
      "Accuracy: 0.971597364235401\n",
      "Confusion Matrix:\n",
      " [[5148    0  358    0    2]\n",
      " [   0 3515    6    0    0]\n",
      " [   0    0 3021    0    0]\n",
      " [   0    0    0 1053    0]\n",
      " [   0    2    7    0   91]]\n",
      "Classification Report:\n",
      "               precision    recall  f1-score   support\n",
      "\n",
      "           0       1.00      0.93      0.97      5508\n",
      "           1       1.00      1.00      1.00      3521\n",
      "           2       0.89      1.00      0.94      3021\n",
      "           3       1.00      1.00      1.00      1053\n",
      "           4       0.98      0.91      0.94       100\n",
      "\n",
      "    accuracy                           0.97     13203\n",
      "   macro avg       0.97      0.97      0.97     13203\n",
      "weighted avg       0.97      0.97      0.97     13203\n",
      "\n"
     ]
    }
   ],
   "source": [
    "rf = RandomForestClassifier(n_estimators=100, random_state=42)\n",
    "rf.fit(X_train, y_train)\n",
    "\n",
    "y_pred = rf.predict(X_test)\n",
    "\n",
    "print(\"Accuracy:\", accuracy_score(y_test, y_pred))\n",
    "print(\"Confusion Matrix:\\n\", confusion_matrix(y_test, y_pred))\n",
    "print(\"Classification Report:\\n\", classification_report(y_test, y_pred))"
   ]
  },
  {
   "cell_type": "code",
   "execution_count": 84,
   "metadata": {},
   "outputs": [
    {
     "data": {
      "text/plain": [
       "['vectorizer_3.pkl']"
      ]
     },
     "execution_count": 84,
     "metadata": {},
     "output_type": "execute_result"
    }
   ],
   "source": [
    "import joblib\n",
    "\n",
    "joblib.dump(rf, 'rf_model_ver3.pkl')\n",
    "joblib.dump(vectorizer, 'vectorizer_3.pkl')"
   ]
  },
  {
   "cell_type": "code",
   "execution_count": null,
   "metadata": {},
   "outputs": [],
   "source": []
  }
 ],
 "metadata": {
  "kernelspec": {
   "display_name": "base",
   "language": "python",
   "name": "python3"
  },
  "language_info": {
   "codemirror_mode": {
    "name": "ipython",
    "version": 3
   },
   "file_extension": ".py",
   "mimetype": "text/x-python",
   "name": "python",
   "nbconvert_exporter": "python",
   "pygments_lexer": "ipython3",
   "version": "3.12.4"
  }
 },
 "nbformat": 4,
 "nbformat_minor": 2
}
