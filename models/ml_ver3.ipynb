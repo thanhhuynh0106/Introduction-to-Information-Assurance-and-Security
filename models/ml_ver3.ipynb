{
 "cells": [
  {
   "cell_type": "code",
   "execution_count": 1,
   "id": "e3f26561",
   "metadata": {},
   "outputs": [],
   "source": [
    "import pandas as pd\n",
    "import sklearn\n",
    "from sklearn.model_selection import train_test_split"
   ]
  },
  {
   "cell_type": "code",
   "execution_count": 7,
   "id": "4194cced",
   "metadata": {},
   "outputs": [],
   "source": [
    "train = pd.read_csv(r'D:\\NationalSecret\\IE105\\data\\train.csv')\n",
    "test = pd.read_csv(r'D:\\NationalSecret\\IE105\\data\\test.csv')\n",
    "validate = pd.read_csv(r'D:\\NationalSecret\\IE105\\data\\validate.csv')"
   ]
  },
  {
   "cell_type": "code",
   "execution_count": 9,
   "id": "c994c783",
   "metadata": {},
   "outputs": [
    {
     "data": {
      "text/plain": [
       "Label\n",
       "2    7583\n",
       "1    5922\n",
       "0    3063\n",
       "Name: count, dtype: int64"
      ]
     },
     "execution_count": 9,
     "metadata": {},
     "output_type": "execute_result"
    }
   ],
   "source": [
    "train.Label.value_counts()"
   ]
  },
  {
   "cell_type": "code",
   "execution_count": 10,
   "id": "754b0b3b",
   "metadata": {},
   "outputs": [
    {
     "data": {
      "text/plain": [
       "Label\n",
       "2    2524\n",
       "1    1986\n",
       "0    1013\n",
       "Name: count, dtype: int64"
      ]
     },
     "execution_count": 10,
     "metadata": {},
     "output_type": "execute_result"
    }
   ],
   "source": [
    "test.Label.value_counts()"
   ]
  },
  {
   "cell_type": "code",
   "execution_count": 11,
   "id": "bc80dab2",
   "metadata": {},
   "outputs": [
    {
     "data": {
      "text/html": [
       "<div>\n",
       "<style scoped>\n",
       "    .dataframe tbody tr th:only-of-type {\n",
       "        vertical-align: middle;\n",
       "    }\n",
       "\n",
       "    .dataframe tbody tr th {\n",
       "        vertical-align: top;\n",
       "    }\n",
       "\n",
       "    .dataframe thead th {\n",
       "        text-align: right;\n",
       "    }\n",
       "</style>\n",
       "<table border=\"1\" class=\"dataframe\">\n",
       "  <thead>\n",
       "    <tr style=\"text-align: right;\">\n",
       "      <th></th>\n",
       "      <th>Payload</th>\n",
       "      <th>Label</th>\n",
       "    </tr>\n",
       "  </thead>\n",
       "  <tbody>\n",
       "    <tr>\n",
       "      <th>0</th>\n",
       "      <td>1\" ) and row ( 6237,7469 ) &gt; ( select count ( ...</td>\n",
       "      <td>2</td>\n",
       "    </tr>\n",
       "    <tr>\n",
       "      <th>1</th>\n",
       "      <td>&lt;object classid=\"clsid:02BF25D5-8C17-4B23-BC80...</td>\n",
       "      <td>1</td>\n",
       "    </tr>\n",
       "    <tr>\n",
       "      <th>2</th>\n",
       "      <td>UNION ALL SELECT 'INJ'||'ECT'||'XXX',2,3,4,5,6...</td>\n",
       "      <td>2</td>\n",
       "    </tr>\n",
       "    <tr>\n",
       "      <th>3</th>\n",
       "      <td>1' ( select ( case when ( 5451 = 5451 ) then r...</td>\n",
       "      <td>2</td>\n",
       "    </tr>\n",
       "    <tr>\n",
       "      <th>4</th>\n",
       "      <td>&lt;hr draggable=\"true\" ondrag=\"alert(1)\"&gt;test&lt;/hr&gt;</td>\n",
       "      <td>1</td>\n",
       "    </tr>\n",
       "    <tr>\n",
       "      <th>...</th>\n",
       "      <td>...</td>\n",
       "      <td>...</td>\n",
       "    </tr>\n",
       "    <tr>\n",
       "      <th>16563</th>\n",
       "      <td>-9569%' ) ) union all select 8405,8405,8405,84...</td>\n",
       "      <td>2</td>\n",
       "    </tr>\n",
       "    <tr>\n",
       "      <th>16564</th>\n",
       "      <td>&lt;track id=x tabindex=1 onbeforeactivate=alert(...</td>\n",
       "      <td>1</td>\n",
       "    </tr>\n",
       "    <tr>\n",
       "      <th>16565</th>\n",
       "      <td>&lt;a href=\"javascript:void(0)\" onmouseover=&amp;NewL...</td>\n",
       "      <td>1</td>\n",
       "    </tr>\n",
       "    <tr>\n",
       "      <th>16566</th>\n",
       "      <td>1\" ) ) and 3202 = like ( 'abcdefg',upper ( hex...</td>\n",
       "      <td>2</td>\n",
       "    </tr>\n",
       "    <tr>\n",
       "      <th>16567</th>\n",
       "      <td>Where's the mindfulness workshop?</td>\n",
       "      <td>0</td>\n",
       "    </tr>\n",
       "  </tbody>\n",
       "</table>\n",
       "<p>16568 rows × 2 columns</p>\n",
       "</div>"
      ],
      "text/plain": [
       "                                                 Payload  Label\n",
       "0      1\" ) and row ( 6237,7469 ) > ( select count ( ...      2\n",
       "1      <object classid=\"clsid:02BF25D5-8C17-4B23-BC80...      1\n",
       "2      UNION ALL SELECT 'INJ'||'ECT'||'XXX',2,3,4,5,6...      2\n",
       "3      1' ( select ( case when ( 5451 = 5451 ) then r...      2\n",
       "4       <hr draggable=\"true\" ondrag=\"alert(1)\">test</hr>      1\n",
       "...                                                  ...    ...\n",
       "16563  -9569%' ) ) union all select 8405,8405,8405,84...      2\n",
       "16564  <track id=x tabindex=1 onbeforeactivate=alert(...      1\n",
       "16565  <a href=\"javascript:void(0)\" onmouseover=&NewL...      1\n",
       "16566  1\" ) ) and 3202 = like ( 'abcdefg',upper ( hex...      2\n",
       "16567                  Where's the mindfulness workshop?      0\n",
       "\n",
       "[16568 rows x 2 columns]"
      ]
     },
     "execution_count": 11,
     "metadata": {},
     "output_type": "execute_result"
    }
   ],
   "source": [
    "train = train.drop(columns=['ID', 'text_label'])\n",
    "test = test.drop(columns=['ID', 'text_label'])\n",
    "validate = validate.drop(columns=['ID', 'text_label'])\n",
    "train"
   ]
  },
  {
   "cell_type": "markdown",
   "id": "2fb8a1e4",
   "metadata": {},
   "source": [
    "##### ***Logistic regression with OVR***"
   ]
  },
  {
   "cell_type": "code",
   "execution_count": null,
   "id": "f8c67fc1",
   "metadata": {},
   "outputs": [],
   "source": [
    "from sklearn.feature_extraction.text import TfidfVectorizer\n",
    "from sklearn.metrics import classification_report\n",
    "from sklearn.linear_model import LogisticRegression\n",
    "\n",
    "\n",
    "import warnings \n",
    "\n",
    "warnings.filterwarnings(\"ignore\")"
   ]
  },
  {
   "cell_type": "code",
   "execution_count": 30,
   "id": "6a44a9a6",
   "metadata": {},
   "outputs": [],
   "source": [
    "vectorizer = TfidfVectorizer()\n",
    "\n",
    "X_train = vectorizer.fit_transform(train['Payload'])\n",
    "X_test = vectorizer.transform(test['Payload'])\n",
    "\n",
    "y_train = train['Label']\n",
    "y_test = test['Label']"
   ]
  },
  {
   "cell_type": "code",
   "execution_count": 31,
   "id": "f9fb9cc5",
   "metadata": {},
   "outputs": [
    {
     "name": "stdout",
     "output_type": "stream",
     "text": [
      "              precision    recall  f1-score   support\n",
      "\n",
      "           0       0.99      0.93      0.96      1013\n",
      "           1       1.00      0.99      0.99      1986\n",
      "           2       0.96      1.00      0.98      2524\n",
      "\n",
      "    accuracy                           0.98      5523\n",
      "   macro avg       0.98      0.97      0.98      5523\n",
      "weighted avg       0.98      0.98      0.98      5523\n",
      "\n"
     ]
    }
   ],
   "source": [
    "model = LogisticRegression(multi_class='multinomial', solver='lbfgs', max_iter=1000, random_state=42)\n",
    "model.fit(X_train, y_train)\n",
    "\n",
    "y_pred = model.predict(X_test)\n",
    "print(classification_report(y_test, y_pred))"
   ]
  },
  {
   "cell_type": "code",
   "execution_count": 35,
   "id": "b5716274",
   "metadata": {},
   "outputs": [
    {
     "data": {
      "text/plain": [
       "['results/lr_vectorizer.pkl']"
      ]
     },
     "execution_count": 35,
     "metadata": {},
     "output_type": "execute_result"
    }
   ],
   "source": [
    "import joblib\n",
    "\n",
    "joblib.dump(model, 'results/logistic_regression_model.pkl')\n",
    "joblib.dump(vectorizer, 'results/lr_vectorizer.pkl')"
   ]
  },
  {
   "cell_type": "code",
   "execution_count": null,
   "id": "81b0992b",
   "metadata": {},
   "outputs": [],
   "source": []
  }
 ],
 "metadata": {
  "kernelspec": {
   "display_name": "base",
   "language": "python",
   "name": "python3"
  },
  "language_info": {
   "codemirror_mode": {
    "name": "ipython",
    "version": 3
   },
   "file_extension": ".py",
   "mimetype": "text/x-python",
   "name": "python",
   "nbconvert_exporter": "python",
   "pygments_lexer": "ipython3",
   "version": "3.12.4"
  }
 },
 "nbformat": 4,
 "nbformat_minor": 5
}
